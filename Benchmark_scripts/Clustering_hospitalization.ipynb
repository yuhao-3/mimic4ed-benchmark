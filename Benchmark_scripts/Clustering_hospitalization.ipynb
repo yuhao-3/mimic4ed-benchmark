{
 "cells": [
  {
   "cell_type": "markdown",
   "source": [
    "# Use clustering method to model hospitalization outcome"
   ],
   "metadata": {
    "collapsed": false
   },
   "id": "a1e184ee3d6cdb8"
  },
  {
   "cell_type": "code",
   "execution_count": null,
   "outputs": [],
   "source": [
    "import os\n",
    "import time\n",
    "import random\n",
    "import tensorflow as tf\n",
    "import numpy as np\n",
    "import pandas as pd\n",
    "\n",
    "\n",
    "path = '../output2'\n",
    "output_path = os.path.join(path, \"Figure3\")\n",
    "df_train = pd.read_csv((os.path.join(path, 'train.csv')))\n",
    "df_test = pd.read_csv((os.path.join(path, 'test.csv')))\n",
    "confidence_interval = 95\n",
    "random_seed=0"
   ],
   "metadata": {
    "collapsed": false
   },
   "id": "b1e911f17d73393"
  },
  {
   "cell_type": "code",
   "execution_count": null,
   "outputs": [],
   "source": [
    "random.seed(random_seed)\n",
    "np.random.seed(random_seed)\n",
    "pd.set_option('display.max_columns', 100)\n",
    "pd.set_option('display.max_rows', 100)\n",
    "df_train.head()"
   ],
   "metadata": {
    "collapsed": false
   },
   "id": "a68b1b7eae312585"
  },
  {
   "cell_type": "code",
   "execution_count": null,
   "outputs": [],
   "source": [
    "print('training size =', len(df_train), ', testing size =', len(df_test))"
   ],
   "metadata": {
    "collapsed": false
   },
   "id": "bb2bd028393a969c"
  },
  {
   "cell_type": "code",
   "execution_count": null,
   "outputs": [],
   "source": [
    "variable = [\"age\", \"gender\",\n",
    "\n",
    "            \"n_ed_30d\", \"n_ed_90d\", \"n_ed_365d\", \"n_hosp_30d\", \"n_hosp_90d\",\n",
    "            \"n_hosp_365d\", \"n_icu_30d\", \"n_icu_90d\", \"n_icu_365d\",\n",
    "\n",
    "            \"triage_temperature\", \"triage_heartrate\", \"triage_resprate\",\n",
    "            \"triage_o2sat\", \"triage_sbp\", \"triage_dbp\", \"triage_pain\", \"triage_acuity\",\n",
    "\n",
    "            \"chiefcom_chest_pain\", \"chiefcom_abdominal_pain\", \"chiefcom_headache\",\n",
    "            \"chiefcom_shortness_of_breath\", \"chiefcom_back_pain\", \"chiefcom_cough\",\n",
    "            \"chiefcom_nausea_vomiting\", \"chiefcom_fever_chills\", \"chiefcom_syncope\",\n",
    "            \"chiefcom_dizziness\",\n",
    "\n",
    "            \"cci_MI\", \"cci_CHF\", \"cci_PVD\", \"cci_Stroke\", \"cci_Dementia\",\n",
    "            \"cci_Pulmonary\", \"cci_Rheumatic\", \"cci_PUD\", \"cci_Liver1\", \"cci_DM1\",\n",
    "            \"cci_DM2\", \"cci_Paralysis\", \"cci_Renal\", \"cci_Cancer1\", \"cci_Liver2\",\n",
    "            \"cci_Cancer2\", \"cci_HIV\",\n",
    "\n",
    "            \"eci_Arrhythmia\", \"eci_Valvular\", \"eci_PHTN\", \"eci_HTN1\", \"eci_HTN2\",\n",
    "            \"eci_NeuroOther\", \"eci_Hypothyroid\", \"eci_Lymphoma\", \"eci_Coagulopathy\",\n",
    "            \"eci_Obesity\", \"eci_WeightLoss\", \"eci_FluidsLytes\", \"eci_BloodLoss\",\n",
    "            \"eci_Anemia\", \"eci_Alcohol\", \"eci_Drugs\", \"eci_Psychoses\", \"eci_Depression\"]\n",
    "\n",
    "outcome = \"outcome_hospitalization\"\n",
    "X_train = df_train[variable].copy()\n",
    "y_train = df_train[outcome].copy()\n",
    "X_test = df_test[variable].copy()\n",
    "y_test = df_test[outcome].copy()\n",
    "X_train.dtypes.to_frame().T\n",
    "encoder = LabelEncoder()\n",
    "X_train['gender'] = encoder.fit_transform(X_train['gender'])\n",
    "X_test['gender'] = encoder.transform(X_test['gender'])\n",
    "print('class ratio')\n",
    "ratio = y_train.sum() / (~y_train).sum()\n",
    "print('positive : negative =', ratio, ': 1')"
   ],
   "metadata": {
    "collapsed": false
   },
   "id": "54630617472649ec"
  },
  {
   "cell_type": "markdown",
   "source": [
    "# Cluster dataset by different algorithm\n",
    "1. Traditional Clustering algorithms\n",
    "   1. Kmeans\n",
    "   2. Aggomerative\n",
    "   3. DBSCAN\n",
    "   4. Gaussian Mixture Model\n",
    "2. Bayesian(DP) based clustering algorithm\n",
    "    1. Dirichlet Process Mixture Model\n",
    "    2. Hierarchical Dirichlet Process\n",
    "    3. Nested Dirichlet Process\n",
    "    4. Bayesian Agglomerative Clustering with the Dirichlet Process(BAC-DP)\n",
    "\n",
    "Procedure\n",
    "1. Fit a Cluster Model with training data\n",
    "2. Use this fitted cluster model to get cluster labels for both training and test data\n",
    "3. Append the cluster labels as a new feature in both datasets\n",
    "4. Fit your classifier with this \"enhanced\" training data"
   ],
   "metadata": {
    "collapsed": false
   },
   "id": "b0ac075c34f0f2a5"
  },
  {
   "cell_type": "markdown",
   "source": [
    "## 1. Kmeans"
   ],
   "metadata": {
    "collapsed": false
   },
   "id": "bf4060691b055b47"
  },
  {
   "cell_type": "code",
   "execution_count": null,
   "outputs": [],
   "source": [
    "from sklearn.cluster import KMeans\n",
    "from helpers import PlotROCCurve\n",
    "from sklearn.linear_model import LogisticRegression\n",
    "\n",
    "# For different value of n_cluster\n",
    "for i in range(1,10):\n",
    "    # Use Kmeans to cluster data, and add new feature to train set \n",
    "    n_cluster = i\n",
    "    print(f\"Kmeans parameter {i}\")\n",
    "    kmeans = KMeans(n_clusters = n_cluster, random_state = 42)\n",
    "    train_kmeans_clusters = kmeans.fit_predict(X_train)\n",
    "    test_kmeans_clusters =  kmeans.predict(X_test)\n",
    "    X_train['Kmeans'] = train_kmeans_clusters\n",
    "    X_test['Kmeans'] = test_kmeans_clusters\n",
    "    \n",
    "    # Use classifier to predict\n",
    "    # Containers for all results\n",
    "    result_list = []\n",
    "    \n",
    "    logreg = LogisticRegression(random_state=random_seed)\n",
    "    start = time.time()\n",
    "    logreg.fit(X_train,y_train)\n",
    "    runtime = time.time()-start\n",
    "    \n",
    "    \n",
    "    probs = logreg.predict_proba(X_test)\n",
    "    result = PlotROCCurve(probs[:,1],y_test, ci=confidence_interval, random_seed=random_seed)\n",
    "    \n",
    "    results = [\"LR\"]\n",
    "    results.extend(result)\n",
    "    results.append(runtime)\n",
    "    \n",
    "result_list.append(results)\n",
    "    \n",
    "    \n",
    "    \n"
   ],
   "metadata": {
    "collapsed": false
   },
   "id": "5bd9766f192f1bb5"
  },
  {
   "cell_type": "markdown",
   "source": [
    "## Use logistic regression to predict\n"
   ],
   "metadata": {
    "collapsed": false
   },
   "id": "1465402cfbde78c3"
  },
  {
   "cell_type": "code",
   "execution_count": null,
   "outputs": [],
   "source": [
    "# Containers for all results\n",
    "result_list = []\n",
    "\n",
    "from sklearn.linear_model import LogisticRegression\n",
    "logreg = LogisticRegression(random_state=random_seed)\n",
    "start = time.time()\n",
    "logreg.fit(X_train,y_train)\n",
    "runtime = time.time()-start\n",
    "\n",
    "\n",
    "probs = logreg.predict_proba(X_test)\n",
    "result = PlotROCCurve(probs[:,1],y_test, ci=confidence_interval, random_seed=random_seed)\n",
    "\n",
    "results = [\"LR\"]\n",
    "results.extend(result)\n",
    "results.append(runtime)\n",
    "result_list.append(results)"
   ],
   "metadata": {
    "collapsed": false
   },
   "id": "a1adebaee7faa638"
  },
  {
   "cell_type": "code",
   "execution_count": null,
   "outputs": [],
   "source": [],
   "metadata": {
    "collapsed": false
   },
   "id": "5fa0de1ca66ea9f"
  }
 ],
 "metadata": {
  "kernelspec": {
   "display_name": "Python 3",
   "language": "python",
   "name": "python3"
  },
  "language_info": {
   "codemirror_mode": {
    "name": "ipython",
    "version": 2
   },
   "file_extension": ".py",
   "mimetype": "text/x-python",
   "name": "python",
   "nbconvert_exporter": "python",
   "pygments_lexer": "ipython2",
   "version": "2.7.6"
  }
 },
 "nbformat": 4,
 "nbformat_minor": 5
}
